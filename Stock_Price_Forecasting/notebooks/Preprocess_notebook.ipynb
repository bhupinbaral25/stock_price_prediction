{
 "cells": [
  {
   "cell_type": "markdown",
   "id": "404c91a4",
   "metadata": {},
   "source": [
    "# Notebook for Data visualization, Data_preprocessing, "
   ]
  },
  {
   "cell_type": "markdown",
   "id": "8d26b863",
   "metadata": {},
   "source": [
    "# Importing Necessary Model from Project Structure"
   ]
  },
  {
   "cell_type": "code",
   "execution_count": 15,
   "id": "589ba94a",
   "metadata": {},
   "outputs": [],
   "source": [
    "import os"
   ]
  },
  {
   "cell_type": "code",
   "execution_count": 86,
   "id": "04085e09",
   "metadata": {},
   "outputs": [],
   "source": [
    "from Scripts import read_data as rd\n"
   ]
  },
  {
   "cell_type": "code",
   "execution_count": 87,
   "id": "57a7fe0c",
   "metadata": {},
   "outputs": [],
   "source": [
    "#Define path for raw data "
   ]
  },
  {
   "cell_type": "code",
   "execution_count": 88,
   "id": "2f620e0a",
   "metadata": {},
   "outputs": [],
   "source": [
    "base = os.path.dirname(os.path.abspath('__file__'))\n",
    "path_nepsedata = os.path.join(base, \"data/raw/Agricultural_development_bank_limited.xlsx\")\n",
    "path_nepsenews = os.path.join(base, \"data/raw/raw_news_data.csv\")\n",
    "path_score = os.path.join(base, \"data/raw/news_score.csv\")"
   ]
  },
  {
   "cell_type": "markdown",
   "id": "314d25c1",
   "metadata": {},
   "source": [
    "# Read data from files"
   ]
  },
  {
   "cell_type": "code",
   "execution_count": 92,
   "id": "6492503c",
   "metadata": {},
   "outputs": [],
   "source": [
    "df_stock = rd.read_dataset(path_nepsedata, file_type='xlsx')"
   ]
  },
  {
   "cell_type": "code",
   "execution_count": 93,
   "id": "00324d3c",
   "metadata": {},
   "outputs": [
    {
     "data": {
      "text/html": [
       "<div>\n",
       "<style scoped>\n",
       "    .dataframe tbody tr th:only-of-type {\n",
       "        vertical-align: middle;\n",
       "    }\n",
       "\n",
       "    .dataframe tbody tr th {\n",
       "        vertical-align: top;\n",
       "    }\n",
       "\n",
       "    .dataframe thead th {\n",
       "        text-align: right;\n",
       "    }\n",
       "</style>\n",
       "<table border=\"1\" class=\"dataframe\">\n",
       "  <thead>\n",
       "    <tr style=\"text-align: right;\">\n",
       "      <th></th>\n",
       "      <th>Open</th>\n",
       "      <th>Close</th>\n",
       "      <th>Volume</th>\n",
       "      <th>Turnover</th>\n",
       "    </tr>\n",
       "    <tr>\n",
       "      <th>Date</th>\n",
       "      <th></th>\n",
       "      <th></th>\n",
       "      <th></th>\n",
       "      <th></th>\n",
       "    </tr>\n",
       "  </thead>\n",
       "  <tbody>\n",
       "    <tr>\n",
       "      <th>2011-03-20</th>\n",
       "      <td>132</td>\n",
       "      <td>133</td>\n",
       "      <td>1507</td>\n",
       "      <td>198979</td>\n",
       "    </tr>\n",
       "    <tr>\n",
       "      <th>2011-03-24</th>\n",
       "      <td>135</td>\n",
       "      <td>133</td>\n",
       "      <td>3116</td>\n",
       "      <td>415035</td>\n",
       "    </tr>\n",
       "    <tr>\n",
       "      <th>2011-03-25</th>\n",
       "      <td>133</td>\n",
       "      <td>135</td>\n",
       "      <td>2560</td>\n",
       "      <td>342820</td>\n",
       "    </tr>\n",
       "    <tr>\n",
       "      <th>2011-03-27</th>\n",
       "      <td>135</td>\n",
       "      <td>134</td>\n",
       "      <td>2110</td>\n",
       "      <td>284040</td>\n",
       "    </tr>\n",
       "    <tr>\n",
       "      <th>2011-03-28</th>\n",
       "      <td>134</td>\n",
       "      <td>130</td>\n",
       "      <td>1288</td>\n",
       "      <td>169336</td>\n",
       "    </tr>\n",
       "  </tbody>\n",
       "</table>\n",
       "</div>"
      ],
      "text/plain": [
       "            Open  Close  Volume  Turnover\n",
       "Date                                     \n",
       "2011-03-20   132    133    1507    198979\n",
       "2011-03-24   135    133    3116    415035\n",
       "2011-03-25   133    135    2560    342820\n",
       "2011-03-27   135    134    2110    284040\n",
       "2011-03-28   134    130    1288    169336"
      ]
     },
     "execution_count": 93,
     "metadata": {},
     "output_type": "execute_result"
    }
   ],
   "source": [
    "df_stock.head()"
   ]
  },
  {
   "cell_type": "code",
   "execution_count": 94,
   "id": "a5e97b43",
   "metadata": {},
   "outputs": [
    {
     "name": "stdout",
     "output_type": "stream",
     "text": [
      "<class 'pandas.core.frame.DataFrame'>\n",
      "DatetimeIndex: 2222 entries, 2011-03-20 to 2021-01-13\n",
      "Data columns (total 4 columns):\n",
      " #   Column    Non-Null Count  Dtype\n",
      "---  ------    --------------  -----\n",
      " 0   Open      2222 non-null   int64\n",
      " 1   Close     2222 non-null   int64\n",
      " 2   Volume    2222 non-null   int64\n",
      " 3   Turnover  2222 non-null   int64\n",
      "dtypes: int64(4)\n",
      "memory usage: 86.8 KB\n"
     ]
    }
   ],
   "source": [
    "df_stock.info()"
   ]
  },
  {
   "cell_type": "markdown",
   "id": "51c204ea",
   "metadata": {},
   "source": [
    "1) Dataframe contain 2222 days values of stock from 2011-03-20 to 2021-01-13\n",
    "2) The main features are taken out from the dataset"
   ]
  },
  {
   "cell_type": "code",
   "execution_count": 56,
   "id": "b7a9f736",
   "metadata": {},
   "outputs": [],
   "source": [
    "df_news = rd.read_dataset(path_nepsenews)"
   ]
  },
  {
   "cell_type": "code",
   "execution_count": 57,
   "id": "7ef582e9",
   "metadata": {},
   "outputs": [
    {
     "data": {
      "text/html": [
       "<div>\n",
       "<style scoped>\n",
       "    .dataframe tbody tr th:only-of-type {\n",
       "        vertical-align: middle;\n",
       "    }\n",
       "\n",
       "    .dataframe tbody tr th {\n",
       "        vertical-align: top;\n",
       "    }\n",
       "\n",
       "    .dataframe thead th {\n",
       "        text-align: right;\n",
       "    }\n",
       "</style>\n",
       "<table border=\"1\" class=\"dataframe\">\n",
       "  <thead>\n",
       "    <tr style=\"text-align: right;\">\n",
       "      <th></th>\n",
       "      <th>Title</th>\n",
       "    </tr>\n",
       "    <tr>\n",
       "      <th>Date</th>\n",
       "      <th></th>\n",
       "    </tr>\n",
       "  </thead>\n",
       "  <tbody>\n",
       "    <tr>\n",
       "      <th>2019-11-15</th>\n",
       "      <td>Nepal Insurance Company posts net profit of Rs...</td>\n",
       "    </tr>\n",
       "    <tr>\n",
       "      <th>2019-11-15</th>\n",
       "      <td>Look at the major highlights from the first qu...</td>\n",
       "    </tr>\n",
       "    <tr>\n",
       "      <th>2019-11-15</th>\n",
       "      <td>Sanima Life Insurance and Mahalaxmi Life Insur...</td>\n",
       "    </tr>\n",
       "    <tr>\n",
       "      <th>2019-11-15</th>\n",
       "      <td>NMB Bank was traded the most this week; Sabaik...</td>\n",
       "    </tr>\n",
       "    <tr>\n",
       "      <th>2019-11-15</th>\n",
       "      <td>Ganapati Microfinance announces 3rd AGM on Pou...</td>\n",
       "    </tr>\n",
       "  </tbody>\n",
       "</table>\n",
       "</div>"
      ],
      "text/plain": [
       "                                                        Title\n",
       "Date                                                         \n",
       "2019-11-15  Nepal Insurance Company posts net profit of Rs...\n",
       "2019-11-15  Look at the major highlights from the first qu...\n",
       "2019-11-15  Sanima Life Insurance and Mahalaxmi Life Insur...\n",
       "2019-11-15  NMB Bank was traded the most this week; Sabaik...\n",
       "2019-11-15  Ganapati Microfinance announces 3rd AGM on Pou..."
      ]
     },
     "execution_count": 57,
     "metadata": {},
     "output_type": "execute_result"
    }
   ],
   "source": [
    "df_news.head()"
   ]
  },
  {
   "cell_type": "code",
   "execution_count": 60,
   "id": "0e6ce9dc",
   "metadata": {},
   "outputs": [],
   "source": [
    "df_scores =rd.read_dataset(path_score)"
   ]
  },
  {
   "cell_type": "code",
   "execution_count": 63,
   "id": "830f59d2",
   "metadata": {},
   "outputs": [
    {
     "data": {
      "text/html": [
       "<div>\n",
       "<style scoped>\n",
       "    .dataframe tbody tr th:only-of-type {\n",
       "        vertical-align: middle;\n",
       "    }\n",
       "\n",
       "    .dataframe tbody tr th {\n",
       "        vertical-align: top;\n",
       "    }\n",
       "\n",
       "    .dataframe thead th {\n",
       "        text-align: right;\n",
       "    }\n",
       "</style>\n",
       "<table border=\"1\" class=\"dataframe\">\n",
       "  <thead>\n",
       "    <tr style=\"text-align: right;\">\n",
       "      <th></th>\n",
       "      <th>Title</th>\n",
       "      <th>scores</th>\n",
       "      <th>compound</th>\n",
       "    </tr>\n",
       "    <tr>\n",
       "      <th>Date</th>\n",
       "      <th></th>\n",
       "      <th></th>\n",
       "      <th></th>\n",
       "    </tr>\n",
       "  </thead>\n",
       "  <tbody>\n",
       "    <tr>\n",
       "      <th>2019-11-15</th>\n",
       "      <td>Nepal Insurance Company posts net profit of Rs...</td>\n",
       "      <td>{'neg': 0.0, 'neu': 0.861, 'pos': 0.139, 'comp...</td>\n",
       "      <td>0.4404</td>\n",
       "    </tr>\n",
       "    <tr>\n",
       "      <th>2019-11-15</th>\n",
       "      <td>Look at the major highlights from the first qu...</td>\n",
       "      <td>{'neg': 0.083, 'neu': 0.917, 'pos': 0.0, 'comp...</td>\n",
       "      <td>-0.2263</td>\n",
       "    </tr>\n",
       "    <tr>\n",
       "      <th>2019-11-15</th>\n",
       "      <td>Sanima Life Insurance and Mahalaxmi Life Insur...</td>\n",
       "      <td>{'neg': 0.0, 'neu': 1.0, 'pos': 0.0, 'compound...</td>\n",
       "      <td>0.0000</td>\n",
       "    </tr>\n",
       "    <tr>\n",
       "      <th>2019-11-15</th>\n",
       "      <td>NMB Bank was traded the most this week; Sabaik...</td>\n",
       "      <td>{'neg': 0.0, 'neu': 0.893, 'pos': 0.107, 'comp...</td>\n",
       "      <td>0.3400</td>\n",
       "    </tr>\n",
       "    <tr>\n",
       "      <th>2019-11-15</th>\n",
       "      <td>Ganapati Microfinance announces 3rd AGM on Pou...</td>\n",
       "      <td>{'neg': 0.0, 'neu': 0.667, 'pos': 0.333, 'comp...</td>\n",
       "      <td>0.7906</td>\n",
       "    </tr>\n",
       "  </tbody>\n",
       "</table>\n",
       "</div>"
      ],
      "text/plain": [
       "                                                        Title  \\\n",
       "Date                                                            \n",
       "2019-11-15  Nepal Insurance Company posts net profit of Rs...   \n",
       "2019-11-15  Look at the major highlights from the first qu...   \n",
       "2019-11-15  Sanima Life Insurance and Mahalaxmi Life Insur...   \n",
       "2019-11-15  NMB Bank was traded the most this week; Sabaik...   \n",
       "2019-11-15  Ganapati Microfinance announces 3rd AGM on Pou...   \n",
       "\n",
       "                                                       scores  compound  \n",
       "Date                                                                     \n",
       "2019-11-15  {'neg': 0.0, 'neu': 0.861, 'pos': 0.139, 'comp...    0.4404  \n",
       "2019-11-15  {'neg': 0.083, 'neu': 0.917, 'pos': 0.0, 'comp...   -0.2263  \n",
       "2019-11-15  {'neg': 0.0, 'neu': 1.0, 'pos': 0.0, 'compound...    0.0000  \n",
       "2019-11-15  {'neg': 0.0, 'neu': 0.893, 'pos': 0.107, 'comp...    0.3400  \n",
       "2019-11-15  {'neg': 0.0, 'neu': 0.667, 'pos': 0.333, 'comp...    0.7906  "
      ]
     },
     "execution_count": 63,
     "metadata": {},
     "output_type": "execute_result"
    }
   ],
   "source": [
    "df_scores.head()"
   ]
  },
  {
   "cell_type": "code",
   "execution_count": 72,
   "id": "4d4557a3",
   "metadata": {},
   "outputs": [],
   "source": [
    "df_scores = df_scores.drop(['Title','scores'], axis = 1)"
   ]
  },
  {
   "cell_type": "markdown",
   "id": "8768305f",
   "metadata": {},
   "source": [
    "# Data Cleanning, joining and preprocessing "
   ]
  },
  {
   "cell_type": "code",
   "execution_count": 81,
   "id": "12c42c01",
   "metadata": {},
   "outputs": [],
   "source": [
    "final_data = rd.preprocess_data(rd.join_dataframe(dataframe, df_scores))"
   ]
  },
  {
   "cell_type": "code",
   "execution_count": 82,
   "id": "7806784b",
   "metadata": {},
   "outputs": [
    {
     "data": {
      "text/html": [
       "<div>\n",
       "<style scoped>\n",
       "    .dataframe tbody tr th:only-of-type {\n",
       "        vertical-align: middle;\n",
       "    }\n",
       "\n",
       "    .dataframe tbody tr th {\n",
       "        vertical-align: top;\n",
       "    }\n",
       "\n",
       "    .dataframe thead th {\n",
       "        text-align: right;\n",
       "    }\n",
       "</style>\n",
       "<table border=\"1\" class=\"dataframe\">\n",
       "  <thead>\n",
       "    <tr style=\"text-align: right;\">\n",
       "      <th></th>\n",
       "      <th>Open</th>\n",
       "      <th>Close</th>\n",
       "      <th>Volume</th>\n",
       "      <th>Turnover</th>\n",
       "      <th>compound</th>\n",
       "    </tr>\n",
       "  </thead>\n",
       "  <tbody>\n",
       "    <tr>\n",
       "      <th>2011-03-20</th>\n",
       "      <td>132.0</td>\n",
       "      <td>133.0</td>\n",
       "      <td>1507.0</td>\n",
       "      <td>198979.0</td>\n",
       "      <td>NaN</td>\n",
       "    </tr>\n",
       "    <tr>\n",
       "      <th>2011-03-24</th>\n",
       "      <td>135.0</td>\n",
       "      <td>133.0</td>\n",
       "      <td>3116.0</td>\n",
       "      <td>415035.0</td>\n",
       "      <td>NaN</td>\n",
       "    </tr>\n",
       "    <tr>\n",
       "      <th>2011-03-25</th>\n",
       "      <td>133.0</td>\n",
       "      <td>135.0</td>\n",
       "      <td>2560.0</td>\n",
       "      <td>342820.0</td>\n",
       "      <td>0.135946</td>\n",
       "    </tr>\n",
       "    <tr>\n",
       "      <th>2011-03-27</th>\n",
       "      <td>135.0</td>\n",
       "      <td>134.0</td>\n",
       "      <td>2110.0</td>\n",
       "      <td>284040.0</td>\n",
       "      <td>0.098667</td>\n",
       "    </tr>\n",
       "    <tr>\n",
       "      <th>2011-03-28</th>\n",
       "      <td>134.0</td>\n",
       "      <td>130.0</td>\n",
       "      <td>1288.0</td>\n",
       "      <td>169336.0</td>\n",
       "      <td>0.142644</td>\n",
       "    </tr>\n",
       "  </tbody>\n",
       "</table>\n",
       "</div>"
      ],
      "text/plain": [
       "             Open  Close  Volume  Turnover  compound\n",
       "2011-03-20  132.0  133.0  1507.0  198979.0       NaN\n",
       "2011-03-24  135.0  133.0  3116.0  415035.0       NaN\n",
       "2011-03-25  133.0  135.0  2560.0  342820.0  0.135946\n",
       "2011-03-27  135.0  134.0  2110.0  284040.0  0.098667\n",
       "2011-03-28  134.0  130.0  1288.0  169336.0  0.142644"
      ]
     },
     "execution_count": 82,
     "metadata": {},
     "output_type": "execute_result"
    }
   ],
   "source": [
    "final_data.head()"
   ]
  },
  {
   "cell_type": "code",
   "execution_count": 85,
   "id": "dc80dcb1",
   "metadata": {},
   "outputs": [
    {
     "name": "stdout",
     "output_type": "stream",
     "text": [
      "<class 'pandas.core.frame.DataFrame'>\n",
      "Index: 2210 entries, 2011-03-20 to 2021-01-13\n",
      "Data columns (total 5 columns):\n",
      " #   Column    Non-Null Count  Dtype  \n",
      "---  ------    --------------  -----  \n",
      " 0   Open      2210 non-null   float64\n",
      " 1   Close     2210 non-null   float64\n",
      " 2   Volume    2210 non-null   float64\n",
      " 3   Turnover  2210 non-null   float64\n",
      " 4   compound  2210 non-null   float64\n",
      "dtypes: float64(5)\n",
      "memory usage: 103.6+ KB\n"
     ]
    }
   ],
   "source": [
    "final_data.info()"
   ]
  },
  {
   "cell_type": "code",
   "execution_count": 84,
   "id": "bb4597cc",
   "metadata": {},
   "outputs": [],
   "source": [
    "final_data['compound'] = final_data['compound'].fillna(0)"
   ]
  },
  {
   "cell_type": "markdown",
   "id": "a1619922",
   "metadata": {},
   "source": [
    "# Storing Final dataframe into new CSV file¶"
   ]
  },
  {
   "cell_type": "code",
   "execution_count": 96,
   "id": "4dcc5649",
   "metadata": {},
   "outputs": [],
   "source": [
    "final_data.to_csv('final_dataset.csv',index=True)"
   ]
  }
 ],
 "metadata": {
  "kernelspec": {
   "display_name": "Python 3 (ipykernel)",
   "language": "python",
   "name": "python3"
  },
  "language_info": {
   "codemirror_mode": {
    "name": "ipython",
    "version": 3
   },
   "file_extension": ".py",
   "mimetype": "text/x-python",
   "name": "python",
   "nbconvert_exporter": "python",
   "pygments_lexer": "ipython3",
   "version": "3.8.10"
  }
 },
 "nbformat": 4,
 "nbformat_minor": 5
}
